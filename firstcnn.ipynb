{
 "cells": [
  {
   "cell_type": "markdown",
   "metadata": {},
   "source": [
    "https://pyimagesearch.com/2021/07/19/pytorch-training-your-first-convolutional-neural-network-cnn/"
   ]
  },
  {
   "cell_type": "code",
   "execution_count": 6,
   "metadata": {},
   "outputs": [],
   "source": [
    "from IPython.display import clear_output\n",
    "\n",
    "!pip install torch torchvision\n",
    "!pip install opencv-contrib-python\n",
    "!pip install scikit-learn\n",
    "clear_output()"
   ]
  },
  {
   "cell_type": "code",
   "execution_count": 8,
   "metadata": {},
   "outputs": [],
   "source": [
    "# import the necessary packages\n",
    "from torch.nn import Module\n",
    "from torch.nn import Conv2d\n",
    "from torch.nn import Linear\n",
    "from torch.nn import MaxPool2d\n",
    "from torch.nn import ReLU\n",
    "from torch.nn import LogSoftmax\n",
    "from torch import flatten"
   ]
  },
  {
   "cell_type": "markdown",
   "metadata": {},
   "source": [
    "Module: Ao invés de usar Sequential, utilizaremos uma subclasse de Module para  \n",
    "mostrar como funciona a implementação de NNs com classes"
   ]
  },
  {
   "cell_type": "markdown",
   "metadata": {},
   "source": [
    "Conv2D: implementação do PyTorch das camadas convolucionais"
   ]
  },
  {
   "cell_type": "markdown",
   "metadata": {},
   "source": [
    "Linear: camadas fully connected"
   ]
  },
  {
   "cell_type": "markdown",
   "metadata": {},
   "source": [
    "MaxPool2D: Redução de dimensão espacial com max-pooling"
   ]
  },
  {
   "cell_type": "markdown",
   "metadata": {},
   "source": [
    "ReLU: Função de ativação ReLU"
   ]
  },
  {
   "cell_type": "code",
   "execution_count": 10,
   "metadata": {},
   "outputs": [],
   "source": [
    "class LeNet(Module):\n",
    "    def __init__(self, numChannels, classes):\n",
    "        super(LeNet, self).__init__()\n",
    "\n",
    "        # Primeiro conjunto de camadas\n",
    "        # CONV => RELU => POOL\n",
    "        self.conv1 = Conv2d(in_channels=numChannels, out_channels=20, kernel_size=(5, 5))\n",
    "        self.relu1 = ReLU()\n",
    "        self.maxpool1 = MaxPool2d(kernel_size=(2, 2), stride=(2, 2))\n",
    "\n",
    "        # Segundo conjunto de camadas\n",
    "        # CONV => RELU => POOL\n",
    "        self.conv2 = Conv2d(in_channels=20, out_channels=50, kernel_size=(5, 5)) # pq 50 out channels?\n",
    "        self.relu2 = ReLU()\n",
    "        self.maxpool2 = MaxPool2d(kernel_size=(2, 2), stride=(2, 2))\n",
    "\n",
    "        # Camadas FC => RELU\n",
    "        self.fc1 = Linear(in_features=800, out_features=500) # por que esses valores? Qual o cálculo?\n",
    "        self.relu3 = ReLU()\n",
    "\n",
    "        # classificador softmax\n",
    "        self.fc2 = Linear(in_features=500, out_features=classes)\n",
    "        self.logSoftmax = LogSoftmax(dim=1)"
   ]
  },
  {
   "cell_type": "markdown",
   "metadata": {},
   "source": [
    "```py\n",
    "def __init__(self, numChannels, classes):\n",
    "```\n",
    "`numChannels`: Número de canais nas imagens de entrada (1 para cinza ou 3 para RGB)  \n",
    "`classes`: Número de labels únicos no dataset"
   ]
  },
  {
   "cell_type": "markdown",
   "metadata": {},
   "source": [
    "```py\n",
    "self.conv1 = Conv2d(in_channels=numChannels, out_channels=20, kernel_size=(5, 5))\n",
    "self.relu1 = ReLU()\n",
    "self.maxpool1 = MaxPool2d(kernel_size=(2, 2), stride=(2, 2))\n",
    "```  \n",
    "Inicializa o primeiro conjunto de camadas `CONV => RELU => POOL`  \n",
    "- A primeira camada CONV aprende um total de 20 filtros, cada um de dimensão 5x5  \n",
    "- A função de ativação ReLU é aplicada\n",
    "- Seguido por uma camada 2x2 de max-pooling com 2x2 de stride  \n",
    "para reduzir as dimensões espaciais da imagem de entrada\n"
   ]
  },
  {
   "cell_type": "markdown",
   "metadata": {},
   "source": [
    "```py\n",
    "self.conv2 = Conv2d(in_channels=20, out_channels=50, kernel_size=(5, 5))\n",
    "self.relu2 = ReLU()\n",
    "self.maxpool2 = MaxPool2d(kernel_size=(2, 2), stride=(2, 2))\n",
    "```\n",
    "\n",
    "Inicializa o segundo conjunto de camadas `CONV => RELU => POOL`\n",
    "- Acrescenta o número de filtros aprendidos na camada CONV para 50 (arbitrário), mantendo a dimensão 5x5\n",
    "- Aplica novamente a função de ativação ReLU\n",
    "- Seguido por max pooling e stride 2x2"
   ]
  },
  {
   "cell_type": "markdown",
   "metadata": {},
   "source": [
    "```py\n",
    "self.fc1 = Linear(in_features=800, out_features=500) # por que esses valores? Qual o cálculo?\n",
    "self.relu3 = ReLU()\n",
    "```\n",
    "\n",
    "Inicializa o conjunto de camada fully connected seguido da função de ativação ReLU\n",
    "- Em `in_features`, o valor é determinado pela dimensionalidade do tensor de saída  \n",
    "da última camada convolucional (após as operações de pooling).  \n",
    "Como será utilizado imagens de entrada 28x28 (do MNIST), o cálculo é feito da forma:\n",
    "    - Após a primeira convolução (kernel 5x5 sem padding), a dimensão passa de 28 para 24  \n",
    "    $(28 - 5 + 1 = 24)$\n",
    "    - Após o primeiro max pooling com kernel 2x2, a dimensão se reduz para 12 $(24/2)$\n",
    "    - Na segunda convolução (kernel 5x5), a dimensão passa de 12 para 8 $(12 - 5 + 1 = 8)$\n",
    "    - Após o segundo max pooling (2x2), a dimensão se reduz para 4 $(8/2)$\n",
    "    - Se a segunda camada convolucional gera 50 mapas de ativação (filtros), o tamanho total  \n",
    "    será: $50 \\text{ (canais)} * 4 \\text{ (altura)} * 4 \\text{ (largura)} = 800$\n",
    "- Em `out_features`, o valor é escolhido como parte do design da arquitetura da rede "
   ]
  },
  {
   "cell_type": "markdown",
   "metadata": {},
   "source": [
    "```py\n",
    "self.fc2 = Linear(in_features=500, out_features=classes)\n",
    "self.logSoftmax = LogSoftmax(dim=1)\n",
    "```\n",
    "\n",
    "Última camada que fará a classificação\n",
    "- Classificador fully connected com função de ativação Softmax\n",
    "- `in_features` é igual a `500` pois é a saída da camada anterior"
   ]
  },
  {
   "cell_type": "code",
   "execution_count": 11,
   "metadata": {},
   "outputs": [],
   "source": [
    "class LeNet(Module):\n",
    "    def forward(self):\n",
    "        pass"
   ]
  },
  {
   "cell_type": "code",
   "execution_count": 16,
   "metadata": {},
   "outputs": [
    {
     "data": {
      "text/plain": [
       "{}"
      ]
     },
     "execution_count": 16,
     "metadata": {},
     "output_type": "execute_result"
    }
   ],
   "source": [
    "LeNet.compile.__annotations__"
   ]
  }
 ],
 "metadata": {
  "kernelspec": {
   "display_name": ".localvenv",
   "language": "python",
   "name": "python3"
  },
  "language_info": {
   "codemirror_mode": {
    "name": "ipython",
    "version": 3
   },
   "file_extension": ".py",
   "mimetype": "text/x-python",
   "name": "python",
   "nbconvert_exporter": "python",
   "pygments_lexer": "ipython3",
   "version": "3.12.3"
  }
 },
 "nbformat": 4,
 "nbformat_minor": 2
}
