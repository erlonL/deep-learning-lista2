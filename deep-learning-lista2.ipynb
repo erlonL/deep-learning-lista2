{
 "cells": [
  {
   "cell_type": "markdown",
   "metadata": {},
   "source": [
    "# Questão 1"
   ]
  },
  {
   "cell_type": "markdown",
   "metadata": {},
   "source": [
    "Implemente e treine duas redes neurais artificiais para o problema de classificação de dígitos  \n",
    "manuscritos, utilizando a base de dados MNIST, disponível em:  \n",
    "https://www.kaggle.com/datasets/hojjatk/mnist-dataset.  \n",
    " \n",
    "A primeira rede deve ser um Perceptron de Múltiplas Camadas (MLP) tradicional,  \n",
    "enquanto a segunda deve ser uma Rede Neural Convolucional (CNN).  \n",
    " \n",
    "Compare o desempenho das duas redes por meio da análise da curva  \n",
    "do erro médio durante o treinamento e da matriz de confusão obtida no conjunto de teste."
   ]
  },
  {
   "cell_type": "code",
   "execution_count": null,
   "metadata": {
    "vscode": {
     "languageId": "plaintext"
    }
   },
   "outputs": [],
   "source": []
  },
  {
   "cell_type": "markdown",
   "metadata": {},
   "source": [
    "# Questão 2"
   ]
  },
  {
   "cell_type": "markdown",
   "metadata": {},
   "source": [
    "# Questão 3"
   ]
  },
  {
   "cell_type": "markdown",
   "metadata": {},
   "source": [
    "# Questão 4"
   ]
  }
 ],
 "metadata": {
  "language_info": {
   "name": "python"
  }
 },
 "nbformat": 4,
 "nbformat_minor": 2
}
